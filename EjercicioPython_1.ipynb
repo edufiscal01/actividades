{
  "nbformat": 4,
  "nbformat_minor": 0,
  "metadata": {
    "colab": {
      "provenance": []
    },
    "kernelspec": {
      "name": "python3",
      "display_name": "Python 3"
    },
    "language_info": {
      "name": "python"
    }
  },
  "cells": [
    {
      "cell_type": "code",
      "execution_count": null,
      "metadata": {
        "colab": {
          "base_uri": "https://localhost:8080/"
        },
        "id": "A-31L8iJWwjr",
        "outputId": "d90af8c4-825d-4ce2-8144-e5c0fea5e0fc"
      },
      "outputs": [
        {
          "output_type": "stream",
          "name": "stdout",
          "text": [
            "Por favor, ingresa un número: 5\n",
            "5 es un número impar.\n"
          ]
        }
      ],
      "source": [
        "#Elian Eduardo Fiscal Almanza 1964131 Grupo: 007 Hora: N5\n",
        "\n",
        " # Solicitar al usuario un número\n",
        "numero = int(input(\"Por favor, ingresa un número: \"))\n",
        "\n",
        "# Determinar si el número es par o impar\n",
        "if numero % 2 == 0:\n",
        "    print(f\"{numero} es un número par.\")\n",
        "else:\n",
        "    print(f\"{numero} es un número impar.\")\n",
        "\n",
        "\n"
      ]
    },
    {
      "cell_type": "code",
      "source": [
        "# Solicitar al usuario una lista de números\n",
        "entrada = input(\"Ingresa una lista de números separados por espacios: \")\n",
        "numeros = entrada.split()  # Dividir la entrada en una lista de cadenas\n",
        "\n",
        "# Convertir las cadenas a números enteros\n",
        "numeros = [int(numero) for numero in numeros]\n",
        "\n",
        "# Mostrar la lista en orden inverso\n",
        "numeros_inversos = numeros[::-1]\n",
        "print(\"La lista en orden inverso es:\", numeros_inversos)\n"
      ],
      "metadata": {
        "colab": {
          "base_uri": "https://localhost:8080/"
        },
        "id": "lI5aDJX9c4RU",
        "outputId": "5bb566e9-c1c7-49f6-bff4-1829651a547f"
      },
      "execution_count": null,
      "outputs": [
        {
          "output_type": "stream",
          "name": "stdout",
          "text": [
            "Ingresa una lista de números separados por espacios: 1 5 8 6 4 7 \n",
            "La lista en orden inverso es: [7, 4, 6, 8, 5, 1]\n"
          ]
        }
      ]
    },
    {
      "cell_type": "code",
      "source": [
        "import random\n",
        "\n",
        "# Generar un número aleatorio entre 1 y 100\n",
        "numero_objetivo = random.randint(1, 100)\n",
        "\n",
        "intentos = 0\n",
        "\n",
        "while True:\n",
        "    # Solicitar un intento al usuario\n",
        "    intento = int(input(\"Adivina el número (entre 1 y 100): \"))\n",
        "    intentos += 1\n",
        "\n",
        "    # Comprobar si el intento es igual al número objetivo\n",
        "    if intento == numero_objetivo:\n",
        "        print(f\"¡Felicidades! Adivinaste el número {numero_objetivo} en {intentos} intentos.\")\n",
        "        break\n",
        "    elif intento < numero_objetivo:\n",
        "        print(\"El número objetivo es mayor. Intenta de nuevo.\")\n",
        "    else:\n",
        "        print(\"El número objetivo es menor. Intenta de nuevo.\")\n",
        "}"
      ],
      "metadata": {
        "colab": {
          "base_uri": "https://localhost:8080/"
        },
        "id": "SeIt4eKPdecd",
        "outputId": "5f78d523-4cf3-47df-993a-f8aa74c0fe45"
      },
      "execution_count": null,
      "outputs": [
        {
          "output_type": "stream",
          "name": "stdout",
          "text": [
            "Adivina el número (entre 1 y 100): 50\n",
            "El número objetivo es mayor. Intenta de nuevo.\n",
            "Adivina el número (entre 1 y 100): 80\n",
            "El número objetivo es menor. Intenta de nuevo.\n",
            "Adivina el número (entre 1 y 100): 70\n",
            "El número objetivo es menor. Intenta de nuevo.\n",
            "Adivina el número (entre 1 y 100): 60\n",
            "El número objetivo es menor. Intenta de nuevo.\n",
            "Adivina el número (entre 1 y 100): 55\n",
            "El número objetivo es menor. Intenta de nuevo.\n",
            "Adivina el número (entre 1 y 100): 52\n",
            "El número objetivo es mayor. Intenta de nuevo.\n",
            "Adivina el número (entre 1 y 100): 53\n",
            "El número objetivo es mayor. Intenta de nuevo.\n",
            "Adivina el número (entre 1 y 100): 54\n",
            "¡Felicidades! Adivinaste el número 54 en 8 intentos.\n"
          ]
        }
      ]
    },
    {
      "cell_type": "code",
      "source": [
        "# Función para verificar si un número es primo\n",
        "def es_primo(numero):\n",
        "    if numero <= 1:\n",
        "        return False\n",
        "    if numero <= 3:\n",
        "        return True\n",
        "    if numero % 2 == 0 or numero % 3 == 0:\n",
        "        return False\n",
        "    i = 5\n",
        "    while i * i <= numero:\n",
        "        if numero % i == 0 or numero % (i + 2) == 0:\n",
        "            return False\n",
        "        i += 6\n",
        "    return True\n",
        "\n",
        "# Solicitar al usuario un rango de números\n",
        "inicio = int(input(\"Ingresa el número de inicio del rango: \"))\n",
        "fin = int(input(\"Ingresa el número de fin del rango: \"))\n",
        "\n",
        "print(f\"Los números primos en el rango de {inicio} a {fin} son:\")\n",
        "\n",
        "# Encontrar y mostrar los números primos en el rango\n",
        "for numero in range(inicio, fin + 1):\n",
        "    if es_primo(numero):\n",
        "        print(numero)\n"
      ],
      "metadata": {
        "colab": {
          "base_uri": "https://localhost:8080/"
        },
        "id": "FTmIxHb2eCPf",
        "outputId": "f1aa093d-375f-404e-8585-6615b2a24e0a"
      },
      "execution_count": null,
      "outputs": [
        {
          "output_type": "stream",
          "name": "stdout",
          "text": [
            "Ingresa el número de inicio del rango: 10\n",
            "Ingresa el número de fin del rango: 100\n",
            "Los números primos en el rango de 10 a 100 son:\n",
            "11\n",
            "13\n",
            "17\n",
            "19\n",
            "23\n",
            "29\n",
            "31\n",
            "37\n",
            "41\n",
            "43\n",
            "47\n",
            "53\n",
            "59\n",
            "61\n",
            "67\n",
            "71\n",
            "73\n",
            "79\n",
            "83\n",
            "89\n",
            "97\n"
          ]
        }
      ]
    }
  ]
}